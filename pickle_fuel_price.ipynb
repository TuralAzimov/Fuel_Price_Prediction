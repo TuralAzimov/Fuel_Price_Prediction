{
 "cells": [
  {
   "cell_type": "code",
   "execution_count": 1,
   "id": "78753508",
   "metadata": {},
   "outputs": [],
   "source": [
    "import pickle \n",
    "import numpy as np\n",
    "import warnings\n",
    "warnings.filterwarnings(\"ignore\")"
   ]
  },
  {
   "cell_type": "code",
   "execution_count": 2,
   "id": "8dc54e82",
   "metadata": {},
   "outputs": [],
   "source": [
    "pickled_model = pickle.load(open('fuelprice_model.pkl', 'rb'))"
   ]
  },
  {
   "cell_type": "code",
   "execution_count": 3,
   "id": "f8fa83a6",
   "metadata": {},
   "outputs": [],
   "source": [
    "data =  [77,  1444454.80, 0 , 44.44 ,  216.886655 , 9.287, 44, 11, 2016 ]"
   ]
  },
  {
   "cell_type": "code",
   "execution_count": 4,
   "id": "c839329a",
   "metadata": {},
   "outputs": [],
   "source": [
    "data_2d = np.array(data).reshape(1,-1)"
   ]
  },
  {
   "cell_type": "code",
   "execution_count": 5,
   "id": "802107fb",
   "metadata": {},
   "outputs": [
    {
     "data": {
      "text/plain": [
       "array([3.4376395], dtype=float32)"
      ]
     },
     "execution_count": 5,
     "metadata": {},
     "output_type": "execute_result"
    }
   ],
   "source": [
    "pickled_model.predict(data_2d)"
   ]
  },
  {
   "cell_type": "code",
   "execution_count": 6,
   "id": "f0a157ef",
   "metadata": {},
   "outputs": [],
   "source": [
    "sample = [3 , 348895.98 , 0 , 71.64 , 215.17839 , 7.564 , 39 ,10, 2010]\n",
    "#actual is 2.725"
   ]
  },
  {
   "cell_type": "code",
   "execution_count": 7,
   "id": "fd402956",
   "metadata": {},
   "outputs": [],
   "source": [
    "sample_2d = np.array(sample).reshape(1,-1)\n"
   ]
  },
  {
   "cell_type": "code",
   "execution_count": 8,
   "id": "51c2bcfb",
   "metadata": {},
   "outputs": [
    {
     "data": {
      "text/plain": [
       "array([2.5864315], dtype=float32)"
      ]
     },
     "execution_count": 8,
     "metadata": {},
     "output_type": "execute_result"
    }
   ],
   "source": [
    "pickled_model.predict(sample_2d)"
   ]
  },
  {
   "cell_type": "code",
   "execution_count": 9,
   "id": "c4b61d91",
   "metadata": {},
   "outputs": [],
   "source": [
    "pickled_ada = pickle.load(open('fuelprice_ada_model.pkl', 'rb'))"
   ]
  },
  {
   "cell_type": "code",
   "execution_count": 10,
   "id": "9078731a",
   "metadata": {},
   "outputs": [
    {
     "data": {
      "text/plain": [
       "array([3.492])"
      ]
     },
     "execution_count": 10,
     "metadata": {},
     "output_type": "execute_result"
    }
   ],
   "source": [
    "pickled_ada.predict(data_2d)"
   ]
  },
  {
   "cell_type": "code",
   "execution_count": 11,
   "id": "24be84e2",
   "metadata": {},
   "outputs": [
    {
     "data": {
      "text/plain": [
       "array([2.603])"
      ]
     },
     "execution_count": 11,
     "metadata": {},
     "output_type": "execute_result"
    }
   ],
   "source": [
    "pickled_ada.predict(sample_2d)"
   ]
  },
  {
   "cell_type": "code",
   "execution_count": 12,
   "id": "05fb8c04",
   "metadata": {},
   "outputs": [],
   "source": [
    "sample_2 = [3 , 443557.65 , 0 , 72.74 , 226.7210356 , 6.034 , 37 , 10 , 2012]\n",
    "#actual 3.617"
   ]
  },
  {
   "cell_type": "code",
   "execution_count": 13,
   "id": "e2b87368",
   "metadata": {},
   "outputs": [],
   "source": [
    "sample2_2d = np.array(sample_2).reshape(1,-1)"
   ]
  },
  {
   "cell_type": "code",
   "execution_count": 14,
   "id": "d1015ee5",
   "metadata": {},
   "outputs": [
    {
     "data": {
      "text/plain": [
       "array([3.666])"
      ]
     },
     "execution_count": 14,
     "metadata": {},
     "output_type": "execute_result"
    }
   ],
   "source": [
    "pickled_ada.predict(sample2_2d)"
   ]
  },
  {
   "cell_type": "code",
   "execution_count": 15,
   "id": "60dcdf0d",
   "metadata": {},
   "outputs": [
    {
     "data": {
      "text/plain": [
       "array([3.5446813], dtype=float32)"
      ]
     },
     "execution_count": 15,
     "metadata": {},
     "output_type": "execute_result"
    }
   ],
   "source": [
    "pickled_model.predict(sample2_2d)"
   ]
  },
  {
   "cell_type": "code",
   "execution_count": 16,
   "id": "9d54892d",
   "metadata": {},
   "outputs": [],
   "source": [
    "pickled_rf = pickle.load(open('fuelprice_rf_model.pkl', 'rb'))"
   ]
  },
  {
   "cell_type": "code",
   "execution_count": 17,
   "id": "b78976fe",
   "metadata": {},
   "outputs": [
    {
     "data": {
      "text/plain": [
       "array([2.60852])"
      ]
     },
     "execution_count": 17,
     "metadata": {},
     "output_type": "execute_result"
    }
   ],
   "source": [
    "pickled_rf.predict(sample_2d)"
   ]
  },
  {
   "cell_type": "code",
   "execution_count": 18,
   "id": "fb3d6bba",
   "metadata": {},
   "outputs": [
    {
     "data": {
      "text/plain": [
       "array([3.66716])"
      ]
     },
     "execution_count": 18,
     "metadata": {},
     "output_type": "execute_result"
    }
   ],
   "source": [
    "pickled_rf.predict(sample2_2d)"
   ]
  }
 ],
 "metadata": {
  "kernelspec": {
   "display_name": "Python 3 (ipykernel)",
   "language": "python",
   "name": "python3"
  },
  "language_info": {
   "codemirror_mode": {
    "name": "ipython",
    "version": 3
   },
   "file_extension": ".py",
   "mimetype": "text/x-python",
   "name": "python",
   "nbconvert_exporter": "python",
   "pygments_lexer": "ipython3",
   "version": "3.9.13"
  }
 },
 "nbformat": 4,
 "nbformat_minor": 5
}

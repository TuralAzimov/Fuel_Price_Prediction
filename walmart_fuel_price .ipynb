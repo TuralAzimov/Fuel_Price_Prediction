{
 "cells": [
  {
   "cell_type": "code",
   "execution_count": 2,
   "id": "54945786",
   "metadata": {},
   "outputs": [],
   "source": [
    "import pandas as pd \n",
    "import numpy as np\n",
    "import seaborn as sns\n",
    "import matplotlib.pyplot as plt\n",
    "from sklearn.model_selection import train_test_split\n",
    "import xgboost as xg\n",
    "from sklearn.linear_model import LinearRegression\n",
    "from sklearn.metrics import mean_absolute_error as MAE , mean_squared_error as MSE , r2_score \n",
    "import pickle"
   ]
  },
  {
   "cell_type": "code",
   "execution_count": 3,
   "id": "9e59ebfc",
   "metadata": {},
   "outputs": [
    {
     "name": "stdout",
     "output_type": "stream",
     "text": [
      "Defaulting to user installation because normal site-packages is not writeable\n",
      "Requirement already satisfied: xgboost in c:\\users\\admin\\appdata\\roaming\\python\\python39\\site-packages (1.7.6)\n",
      "Requirement already satisfied: numpy in c:\\users\\admin\\appdata\\roaming\\python\\python39\\site-packages (from xgboost) (1.21.6)\n",
      "Requirement already satisfied: scipy in c:\\programdata\\anaconda3\\lib\\site-packages (from xgboost) (1.9.1)\n",
      "Note: you may need to restart the kernel to use updated packages.\n"
     ]
    }
   ],
   "source": [
    "pip install xgboost"
   ]
  },
  {
   "cell_type": "code",
   "execution_count": 4,
   "id": "f32313b1",
   "metadata": {},
   "outputs": [],
   "source": [
    "df = pd.read_csv('C:\\\\Users\\\\admin\\\\Desktop\\\\Walmart.csv')"
   ]
  },
  {
   "cell_type": "code",
   "execution_count": 5,
   "id": "5e7a93ae",
   "metadata": {},
   "outputs": [
    {
     "data": {
      "text/html": [
       "<div>\n",
       "<style scoped>\n",
       "    .dataframe tbody tr th:only-of-type {\n",
       "        vertical-align: middle;\n",
       "    }\n",
       "\n",
       "    .dataframe tbody tr th {\n",
       "        vertical-align: top;\n",
       "    }\n",
       "\n",
       "    .dataframe thead th {\n",
       "        text-align: right;\n",
       "    }\n",
       "</style>\n",
       "<table border=\"1\" class=\"dataframe\">\n",
       "  <thead>\n",
       "    <tr style=\"text-align: right;\">\n",
       "      <th></th>\n",
       "      <th>Store</th>\n",
       "      <th>Date</th>\n",
       "      <th>Weekly_Sales</th>\n",
       "      <th>Holiday_Flag</th>\n",
       "      <th>Temperature</th>\n",
       "      <th>Fuel_Price</th>\n",
       "      <th>CPI</th>\n",
       "      <th>Unemployment</th>\n",
       "    </tr>\n",
       "  </thead>\n",
       "  <tbody>\n",
       "    <tr>\n",
       "      <th>0</th>\n",
       "      <td>1</td>\n",
       "      <td>05-02-2010</td>\n",
       "      <td>1643690.90</td>\n",
       "      <td>0</td>\n",
       "      <td>42.31</td>\n",
       "      <td>2.572</td>\n",
       "      <td>211.096358</td>\n",
       "      <td>8.106</td>\n",
       "    </tr>\n",
       "    <tr>\n",
       "      <th>1</th>\n",
       "      <td>1</td>\n",
       "      <td>12-02-2010</td>\n",
       "      <td>1641957.44</td>\n",
       "      <td>1</td>\n",
       "      <td>38.51</td>\n",
       "      <td>2.548</td>\n",
       "      <td>211.242170</td>\n",
       "      <td>8.106</td>\n",
       "    </tr>\n",
       "    <tr>\n",
       "      <th>2</th>\n",
       "      <td>1</td>\n",
       "      <td>19-02-2010</td>\n",
       "      <td>1611968.17</td>\n",
       "      <td>0</td>\n",
       "      <td>39.93</td>\n",
       "      <td>2.514</td>\n",
       "      <td>211.289143</td>\n",
       "      <td>8.106</td>\n",
       "    </tr>\n",
       "    <tr>\n",
       "      <th>3</th>\n",
       "      <td>1</td>\n",
       "      <td>26-02-2010</td>\n",
       "      <td>1409727.59</td>\n",
       "      <td>0</td>\n",
       "      <td>46.63</td>\n",
       "      <td>2.561</td>\n",
       "      <td>211.319643</td>\n",
       "      <td>8.106</td>\n",
       "    </tr>\n",
       "    <tr>\n",
       "      <th>4</th>\n",
       "      <td>1</td>\n",
       "      <td>05-03-2010</td>\n",
       "      <td>1554806.68</td>\n",
       "      <td>0</td>\n",
       "      <td>46.50</td>\n",
       "      <td>2.625</td>\n",
       "      <td>211.350143</td>\n",
       "      <td>8.106</td>\n",
       "    </tr>\n",
       "  </tbody>\n",
       "</table>\n",
       "</div>"
      ],
      "text/plain": [
       "   Store        Date  Weekly_Sales  Holiday_Flag  Temperature  Fuel_Price  \\\n",
       "0      1  05-02-2010    1643690.90             0        42.31       2.572   \n",
       "1      1  12-02-2010    1641957.44             1        38.51       2.548   \n",
       "2      1  19-02-2010    1611968.17             0        39.93       2.514   \n",
       "3      1  26-02-2010    1409727.59             0        46.63       2.561   \n",
       "4      1  05-03-2010    1554806.68             0        46.50       2.625   \n",
       "\n",
       "          CPI  Unemployment  \n",
       "0  211.096358         8.106  \n",
       "1  211.242170         8.106  \n",
       "2  211.289143         8.106  \n",
       "3  211.319643         8.106  \n",
       "4  211.350143         8.106  "
      ]
     },
     "execution_count": 5,
     "metadata": {},
     "output_type": "execute_result"
    }
   ],
   "source": [
    "df.head()"
   ]
  },
  {
   "cell_type": "code",
   "execution_count": 6,
   "id": "1c74d4c0",
   "metadata": {},
   "outputs": [
    {
     "name": "stdout",
     "output_type": "stream",
     "text": [
      "<class 'pandas.core.frame.DataFrame'>\n",
      "RangeIndex: 6435 entries, 0 to 6434\n",
      "Data columns (total 8 columns):\n",
      " #   Column        Non-Null Count  Dtype  \n",
      "---  ------        --------------  -----  \n",
      " 0   Store         6435 non-null   int64  \n",
      " 1   Date          6435 non-null   object \n",
      " 2   Weekly_Sales  6435 non-null   float64\n",
      " 3   Holiday_Flag  6435 non-null   int64  \n",
      " 4   Temperature   6435 non-null   float64\n",
      " 5   Fuel_Price    6435 non-null   float64\n",
      " 6   CPI           6435 non-null   float64\n",
      " 7   Unemployment  6435 non-null   float64\n",
      "dtypes: float64(5), int64(2), object(1)\n",
      "memory usage: 402.3+ KB\n"
     ]
    }
   ],
   "source": [
    "df.info()"
   ]
  },
  {
   "cell_type": "code",
   "execution_count": 7,
   "id": "362d919e",
   "metadata": {},
   "outputs": [
    {
     "data": {
      "text/plain": [
       "Store           0\n",
       "Date            0\n",
       "Weekly_Sales    0\n",
       "Holiday_Flag    0\n",
       "Temperature     0\n",
       "Fuel_Price      0\n",
       "CPI             0\n",
       "Unemployment    0\n",
       "dtype: int64"
      ]
     },
     "execution_count": 7,
     "metadata": {},
     "output_type": "execute_result"
    }
   ],
   "source": [
    "df.isnull().sum()"
   ]
  },
  {
   "cell_type": "code",
   "execution_count": 8,
   "id": "a370d4b8",
   "metadata": {},
   "outputs": [
    {
     "data": {
      "text/html": [
       "<div>\n",
       "<style scoped>\n",
       "    .dataframe tbody tr th:only-of-type {\n",
       "        vertical-align: middle;\n",
       "    }\n",
       "\n",
       "    .dataframe tbody tr th {\n",
       "        vertical-align: top;\n",
       "    }\n",
       "\n",
       "    .dataframe thead th {\n",
       "        text-align: right;\n",
       "    }\n",
       "</style>\n",
       "<table border=\"1\" class=\"dataframe\">\n",
       "  <thead>\n",
       "    <tr style=\"text-align: right;\">\n",
       "      <th></th>\n",
       "      <th>Store</th>\n",
       "      <th>Weekly_Sales</th>\n",
       "      <th>Holiday_Flag</th>\n",
       "      <th>Temperature</th>\n",
       "      <th>Fuel_Price</th>\n",
       "      <th>CPI</th>\n",
       "      <th>Unemployment</th>\n",
       "    </tr>\n",
       "  </thead>\n",
       "  <tbody>\n",
       "    <tr>\n",
       "      <th>count</th>\n",
       "      <td>6435.000000</td>\n",
       "      <td>6.435000e+03</td>\n",
       "      <td>6435.000000</td>\n",
       "      <td>6435.000000</td>\n",
       "      <td>6435.000000</td>\n",
       "      <td>6435.000000</td>\n",
       "      <td>6435.000000</td>\n",
       "    </tr>\n",
       "    <tr>\n",
       "      <th>mean</th>\n",
       "      <td>23.000000</td>\n",
       "      <td>1.046965e+06</td>\n",
       "      <td>0.069930</td>\n",
       "      <td>60.663782</td>\n",
       "      <td>3.358607</td>\n",
       "      <td>171.578394</td>\n",
       "      <td>7.999151</td>\n",
       "    </tr>\n",
       "    <tr>\n",
       "      <th>std</th>\n",
       "      <td>12.988182</td>\n",
       "      <td>5.643666e+05</td>\n",
       "      <td>0.255049</td>\n",
       "      <td>18.444933</td>\n",
       "      <td>0.459020</td>\n",
       "      <td>39.356712</td>\n",
       "      <td>1.875885</td>\n",
       "    </tr>\n",
       "    <tr>\n",
       "      <th>min</th>\n",
       "      <td>1.000000</td>\n",
       "      <td>2.099862e+05</td>\n",
       "      <td>0.000000</td>\n",
       "      <td>-2.060000</td>\n",
       "      <td>2.472000</td>\n",
       "      <td>126.064000</td>\n",
       "      <td>3.879000</td>\n",
       "    </tr>\n",
       "    <tr>\n",
       "      <th>25%</th>\n",
       "      <td>12.000000</td>\n",
       "      <td>5.533501e+05</td>\n",
       "      <td>0.000000</td>\n",
       "      <td>47.460000</td>\n",
       "      <td>2.933000</td>\n",
       "      <td>131.735000</td>\n",
       "      <td>6.891000</td>\n",
       "    </tr>\n",
       "    <tr>\n",
       "      <th>50%</th>\n",
       "      <td>23.000000</td>\n",
       "      <td>9.607460e+05</td>\n",
       "      <td>0.000000</td>\n",
       "      <td>62.670000</td>\n",
       "      <td>3.445000</td>\n",
       "      <td>182.616521</td>\n",
       "      <td>7.874000</td>\n",
       "    </tr>\n",
       "    <tr>\n",
       "      <th>75%</th>\n",
       "      <td>34.000000</td>\n",
       "      <td>1.420159e+06</td>\n",
       "      <td>0.000000</td>\n",
       "      <td>74.940000</td>\n",
       "      <td>3.735000</td>\n",
       "      <td>212.743293</td>\n",
       "      <td>8.622000</td>\n",
       "    </tr>\n",
       "    <tr>\n",
       "      <th>max</th>\n",
       "      <td>45.000000</td>\n",
       "      <td>3.818686e+06</td>\n",
       "      <td>1.000000</td>\n",
       "      <td>100.140000</td>\n",
       "      <td>4.468000</td>\n",
       "      <td>227.232807</td>\n",
       "      <td>14.313000</td>\n",
       "    </tr>\n",
       "  </tbody>\n",
       "</table>\n",
       "</div>"
      ],
      "text/plain": [
       "             Store  Weekly_Sales  Holiday_Flag  Temperature   Fuel_Price  \\\n",
       "count  6435.000000  6.435000e+03   6435.000000  6435.000000  6435.000000   \n",
       "mean     23.000000  1.046965e+06      0.069930    60.663782     3.358607   \n",
       "std      12.988182  5.643666e+05      0.255049    18.444933     0.459020   \n",
       "min       1.000000  2.099862e+05      0.000000    -2.060000     2.472000   \n",
       "25%      12.000000  5.533501e+05      0.000000    47.460000     2.933000   \n",
       "50%      23.000000  9.607460e+05      0.000000    62.670000     3.445000   \n",
       "75%      34.000000  1.420159e+06      0.000000    74.940000     3.735000   \n",
       "max      45.000000  3.818686e+06      1.000000   100.140000     4.468000   \n",
       "\n",
       "               CPI  Unemployment  \n",
       "count  6435.000000   6435.000000  \n",
       "mean    171.578394      7.999151  \n",
       "std      39.356712      1.875885  \n",
       "min     126.064000      3.879000  \n",
       "25%     131.735000      6.891000  \n",
       "50%     182.616521      7.874000  \n",
       "75%     212.743293      8.622000  \n",
       "max     227.232807     14.313000  "
      ]
     },
     "execution_count": 8,
     "metadata": {},
     "output_type": "execute_result"
    }
   ],
   "source": [
    "df.describe()"
   ]
  },
  {
   "cell_type": "code",
   "execution_count": 9,
   "id": "a86ce12c",
   "metadata": {},
   "outputs": [],
   "source": [
    "df['Date'] = pd.to_datetime(df['Date'],dayfirst=True)"
   ]
  },
  {
   "cell_type": "code",
   "execution_count": 10,
   "id": "9fd2b9e5",
   "metadata": {},
   "outputs": [
    {
     "name": "stderr",
     "output_type": "stream",
     "text": [
      "C:\\Users\\admin\\AppData\\Local\\Temp\\ipykernel_9908\\3394850293.py:1: FutureWarning: Series.dt.weekofyear and Series.dt.week have been deprecated. Please use Series.dt.isocalendar().week instead.\n",
      "  df['Week'] =df['Date'].dt.week\n"
     ]
    }
   ],
   "source": [
    "df['Week'] =df['Date'].dt.week\n",
    "df['Month'] = df['Date'].dt.month\n",
    "df['Year'] = df['Date'].dt.year"
   ]
  },
  {
   "cell_type": "code",
   "execution_count": 11,
   "id": "1622e376",
   "metadata": {},
   "outputs": [
    {
     "data": {
      "text/html": [
       "<div>\n",
       "<style scoped>\n",
       "    .dataframe tbody tr th:only-of-type {\n",
       "        vertical-align: middle;\n",
       "    }\n",
       "\n",
       "    .dataframe tbody tr th {\n",
       "        vertical-align: top;\n",
       "    }\n",
       "\n",
       "    .dataframe thead th {\n",
       "        text-align: right;\n",
       "    }\n",
       "</style>\n",
       "<table border=\"1\" class=\"dataframe\">\n",
       "  <thead>\n",
       "    <tr style=\"text-align: right;\">\n",
       "      <th></th>\n",
       "      <th>Store</th>\n",
       "      <th>Date</th>\n",
       "      <th>Weekly_Sales</th>\n",
       "      <th>Holiday_Flag</th>\n",
       "      <th>Temperature</th>\n",
       "      <th>Fuel_Price</th>\n",
       "      <th>CPI</th>\n",
       "      <th>Unemployment</th>\n",
       "      <th>Week</th>\n",
       "      <th>Month</th>\n",
       "      <th>Year</th>\n",
       "    </tr>\n",
       "  </thead>\n",
       "  <tbody>\n",
       "    <tr>\n",
       "      <th>2186</th>\n",
       "      <td>16</td>\n",
       "      <td>2010-11-19</td>\n",
       "      <td>458634.68</td>\n",
       "      <td>0</td>\n",
       "      <td>27.26</td>\n",
       "      <td>2.758</td>\n",
       "      <td>191.031217</td>\n",
       "      <td>6.986</td>\n",
       "      <td>46</td>\n",
       "      <td>11</td>\n",
       "      <td>2010</td>\n",
       "    </tr>\n",
       "    <tr>\n",
       "      <th>6420</th>\n",
       "      <td>45</td>\n",
       "      <td>2012-07-20</td>\n",
       "      <td>737613.65</td>\n",
       "      <td>0</td>\n",
       "      <td>78.89</td>\n",
       "      <td>3.567</td>\n",
       "      <td>191.167043</td>\n",
       "      <td>8.684</td>\n",
       "      <td>29</td>\n",
       "      <td>7</td>\n",
       "      <td>2012</td>\n",
       "    </tr>\n",
       "    <tr>\n",
       "      <th>3319</th>\n",
       "      <td>24</td>\n",
       "      <td>2010-09-03</td>\n",
       "      <td>1366381.60</td>\n",
       "      <td>0</td>\n",
       "      <td>73.52</td>\n",
       "      <td>2.860</td>\n",
       "      <td>132.724839</td>\n",
       "      <td>8.117</td>\n",
       "      <td>35</td>\n",
       "      <td>9</td>\n",
       "      <td>2010</td>\n",
       "    </tr>\n",
       "    <tr>\n",
       "      <th>4081</th>\n",
       "      <td>29</td>\n",
       "      <td>2011-07-29</td>\n",
       "      <td>474653.06</td>\n",
       "      <td>0</td>\n",
       "      <td>75.32</td>\n",
       "      <td>3.898</td>\n",
       "      <td>135.963935</td>\n",
       "      <td>9.863</td>\n",
       "      <td>30</td>\n",
       "      <td>7</td>\n",
       "      <td>2011</td>\n",
       "    </tr>\n",
       "    <tr>\n",
       "      <th>3525</th>\n",
       "      <td>25</td>\n",
       "      <td>2011-11-18</td>\n",
       "      <td>728525.60</td>\n",
       "      <td>0</td>\n",
       "      <td>46.41</td>\n",
       "      <td>3.530</td>\n",
       "      <td>211.184721</td>\n",
       "      <td>7.082</td>\n",
       "      <td>46</td>\n",
       "      <td>11</td>\n",
       "      <td>2011</td>\n",
       "    </tr>\n",
       "  </tbody>\n",
       "</table>\n",
       "</div>"
      ],
      "text/plain": [
       "      Store       Date  Weekly_Sales  Holiday_Flag  Temperature  Fuel_Price  \\\n",
       "2186     16 2010-11-19     458634.68             0        27.26       2.758   \n",
       "6420     45 2012-07-20     737613.65             0        78.89       3.567   \n",
       "3319     24 2010-09-03    1366381.60             0        73.52       2.860   \n",
       "4081     29 2011-07-29     474653.06             0        75.32       3.898   \n",
       "3525     25 2011-11-18     728525.60             0        46.41       3.530   \n",
       "\n",
       "             CPI  Unemployment  Week  Month  Year  \n",
       "2186  191.031217         6.986    46     11  2010  \n",
       "6420  191.167043         8.684    29      7  2012  \n",
       "3319  132.724839         8.117    35      9  2010  \n",
       "4081  135.963935         9.863    30      7  2011  \n",
       "3525  211.184721         7.082    46     11  2011  "
      ]
     },
     "execution_count": 11,
     "metadata": {},
     "output_type": "execute_result"
    }
   ],
   "source": [
    "df.sample(5)"
   ]
  },
  {
   "cell_type": "code",
   "execution_count": 12,
   "id": "b65a6d8f",
   "metadata": {},
   "outputs": [
    {
     "data": {
      "text/plain": [
       "Text(0.5, 1.0, 'Correlation Matrix')"
      ]
     },
     "execution_count": 12,
     "metadata": {},
     "output_type": "execute_result"
    },
    {
     "data": {
      "image/png": "[encoded data removed]",
      "text/plain": [
       "<Figure size 800x800 with 2 Axes>"
      ]
     },
     "metadata": {},
     "output_type": "display_data"
    }
   ],
   "source": [
    "plt.figure(figsize=(8,8))\n",
    "sns.heatmap(df.corr(),annot=True)\n",
    "plt.title('Correlation Matrix')"
   ]
  },
  {
   "cell_type": "code",
   "execution_count": 13,
   "id": "1e30aca0",
   "metadata": {},
   "outputs": [],
   "source": [
    "num_features = ['Temperature','Fuel_Price','CPI','Unemployment','Weekly_Sales']\n",
    "for feature in num_features:\n",
    "    q1 = df[feature].quantile(0.25)\n",
    "    q3 = df[feature].quantile(0.75)\n",
    "    iqr = q3-q1\n",
    "    lower = q1 - 1.5*iqr\n",
    "    upper = q3 + 1.5*iqr\n",
    "    df = df[(df[feature] >= lower) & (df[feature] <= upper)]"
   ]
  },
  {
   "cell_type": "code",
   "execution_count": 14,
   "id": "26a590f4",
   "metadata": {},
   "outputs": [],
   "source": [
    "X =df.drop(columns = ['Date' , 'Fuel_Price']) \n",
    "y = df['Fuel_Price']"
   ]
  },
  {
   "cell_type": "code",
   "execution_count": 15,
   "id": "5bf23abe",
   "metadata": {},
   "outputs": [],
   "source": [
    "X_train, X_test, y_train, y_test = train_test_split(X, y, random_state = 42, test_size = 0.2)"
   ]
  },
  {
   "cell_type": "code",
   "execution_count": 16,
   "id": "fbe2d79a",
   "metadata": {},
   "outputs": [
    {
     "name": "stdout",
     "output_type": "stream",
     "text": [
      "RMSE :  0.120167\n",
      "r2 score :  0.932150\n",
      "MAE :  0.092258\n",
      "MSE :  0.014440\n"
     ]
    }
   ],
   "source": [
    "xgb_r = xg.XGBRegressor(objective ='reg:squarederror', n_estimators = 10)\n",
    "  \n",
    "xgb_r.fit(X_train, y_train)\n",
    "  \n",
    "pred = xgb_r.predict(X_test)\n",
    "  \n",
    "rmse = np.sqrt(MSE(y_test, pred))\n",
    "print(\"RMSE : % f\" %(rmse))\n",
    "r2 = r2_score(y_test, pred)\n",
    "print(\"r2 score : % f\" %(r2))\n",
    "mae = MAE(y_test, pred)\n",
    "print(\"MAE : % f\" %(mae))\n",
    "mse = MSE(y_test, pred)\n",
    "print(\"MSE : % f\" %(mse))"
   ]
  },
  {
   "cell_type": "code",
   "execution_count": 17,
   "id": "93aed5b8",
   "metadata": {},
   "outputs": [],
   "source": [
    "filename = 'fuelprice_model.pkl'\n",
    "pickle.dump(xgb_r,open(filename,'wb'))\n"
   ]
  },
  {
   "cell_type": "code",
   "execution_count": 18,
   "id": "276da8ec",
   "metadata": {},
   "outputs": [
    {
     "name": "stdout",
     "output_type": "stream",
     "text": [
      "0.9321496451991222\n"
     ]
    }
   ],
   "source": [
    "loaded_model = pickle.load(open(filename, 'rb'))\n",
    "result = loaded_model.score(X_test, y_test)\n",
    "print(result)"
   ]
  },
  {
   "cell_type": "code",
   "execution_count": 19,
   "id": "a8bc641b",
   "metadata": {},
   "outputs": [
    {
     "name": "stderr",
     "output_type": "stream",
     "text": [
      "C:\\Users\\admin\\AppData\\Roaming\\Python\\Python39\\site-packages\\sklearn\\ensemble\\_base.py:166: FutureWarning: `base_estimator` was renamed to `estimator` in version 1.2 and will be removed in 1.4.\n",
      "  warnings.warn(\n"
     ]
    },
    {
     "name": "stdout",
     "output_type": "stream",
     "text": [
      "RMSE :  0.030098\n",
      "r2 score :  0.995743\n",
      "MAE :  0.014492\n",
      "MSE :  0.000906\n"
     ]
    }
   ],
   "source": [
    "from sklearn.ensemble import AdaBoostRegressor\n",
    "from sklearn.tree import DecisionTreeRegressor\n",
    "ada_r = AdaBoostRegressor(n_estimators = 50 , base_estimator = DecisionTreeRegressor() , learning_rate = 1)\n",
    "\n",
    "ada_r.fit(X_train,y_train)\n",
    "\n",
    "pred_ada = ada_r.predict(X_test)\n",
    "\n",
    "rmse = np.sqrt(MSE(y_test, pred_ada))\n",
    "print(\"RMSE : % f\" %(rmse))\n",
    "r2 = r2_score(y_test, pred_ada)\n",
    "print(\"r2 score : % f\" %(r2))\n",
    "mae = MAE(y_test, pred_ada)\n",
    "print(\"MAE : % f\" %(mae))\n",
    "mse = MSE(y_test, pred_ada)\n",
    "print(\"MSE : % f\" %(mse))"
   ]
  },
  {
   "cell_type": "code",
   "execution_count": 20,
   "id": "f1d37091",
   "metadata": {},
   "outputs": [],
   "source": [
    "filename = 'fuelprice_ada_model.pkl'\n",
    "pickle.dump(ada_r,open(filename,'wb'))\n"
   ]
  },
  {
   "cell_type": "code",
   "execution_count": 21,
   "id": "2b08675c",
   "metadata": {},
   "outputs": [
    {
     "name": "stdout",
     "output_type": "stream",
     "text": [
      "0.995743353521847\n"
     ]
    }
   ],
   "source": [
    "loaded_model = pickle.load(open(filename, 'rb'))\n",
    "result = loaded_model.score(X_test, y_test)\n",
    "print(result)"
   ]
  },
  {
   "cell_type": "code",
   "execution_count": 22,
   "id": "018dadf8",
   "metadata": {},
   "outputs": [
    {
     "name": "stdout",
     "output_type": "stream",
     "text": [
      "RMSE :  0.040760\n",
      "r2 score :  0.992194\n",
      "MAE :  0.024466\n",
      "MSE :  0.001661\n"
     ]
    }
   ],
   "source": [
    "from sklearn.ensemble import RandomForestRegressor\n",
    "rf_r = RandomForestRegressor(n_estimators = 50 , random_state = 0)\n",
    "\n",
    "rf_r.fit(X_train,y_train)\n",
    "pred_rf = rf_r.predict(X_test)\n",
    "\n",
    "rmse = np.sqrt(MSE(y_test, pred_rf))\n",
    "print(\"RMSE : % f\" %(rmse))\n",
    "r2 = r2_score(y_test, pred_rf)\n",
    "print(\"r2 score : % f\" %(r2))\n",
    "mae = MAE(y_test, pred_rf)\n",
    "print(\"MAE : % f\" %(mae))\n",
    "mse = MSE(y_test, pred_rf)\n",
    "print(\"MSE : % f\" %(mse))"
   ]
  },
  {
   "cell_type": "code",
   "execution_count": 23,
   "id": "75380098",
   "metadata": {},
   "outputs": [],
   "source": [
    "filename = 'fuelprice_rf_model.pkl'\n",
    "pickle.dump(rf_r,open(filename,'wb'))"
   ]
  },
  {
   "cell_type": "code",
   "execution_count": 30,
   "id": "e16886d7",
   "metadata": {},
   "outputs": [
    {
     "name": "stdout",
     "output_type": "stream",
     "text": [
      "0.9921935233327492\n"
     ]
    }
   ],
   "source": [
    "loaded_model = pickle.load(open(filename, 'rb'))\n",
    "result = loaded_model.score(X_test,y_test)\n",
    "print(result)"
   ]
  },
  {
   "cell_type": "code",
   "execution_count": 25,
   "id": "338dcc64",
   "metadata": {},
   "outputs": [],
   "source": [
    "df = df.drop(columns = 'Date')"
   ]
  },
  {
   "cell_type": "code",
   "execution_count": 26,
   "id": "d4a6079b",
   "metadata": {},
   "outputs": [],
   "source": [
    "df.to_csv('C:\\\\Users\\\\admin\\\\Desktop\\\\Walmart1.csv', index = False)"
   ]
  },
  {
   "cell_type": "code",
   "execution_count": 32,
   "id": "ab39d47b",
   "metadata": {},
   "outputs": [],
   "source": [
    "from pycaret.regression import *"
   ]
  },
  {
   "cell_type": "code",
   "execution_count": 33,
   "id": "b5f38cfc",
   "metadata": {},
   "outputs": [
    {
     "name": "stdout",
     "output_type": "stream",
     "text": [
      "Transformation Pipeline and Model Successfully Loaded\n"
     ]
    }
   ],
   "source": [
    "loaded_model = load_model('best_regression_model')"
   ]
  },
  {
   "cell_type": "code",
   "execution_count": 37,
   "id": "70eebbb6",
   "metadata": {},
   "outputs": [],
   "source": [
    "new_data = pd.read_csv('C:\\\\Users\\\\admin\\\\Desktop\\\\Walmart1.csv')\n",
    "predictions = predict_model(loaded_model, data= new_data)"
   ]
  },
  {
   "cell_type": "code",
   "execution_count": 38,
   "id": "995a6c54",
   "metadata": {},
   "outputs": [
    {
     "data": {
      "text/html": [
       "<div>\n",
       "<style scoped>\n",
       "    .dataframe tbody tr th:only-of-type {\n",
       "        vertical-align: middle;\n",
       "    }\n",
       "\n",
       "    .dataframe tbody tr th {\n",
       "        vertical-align: top;\n",
       "    }\n",
       "\n",
       "    .dataframe thead th {\n",
       "        text-align: right;\n",
       "    }\n",
       "</style>\n",
       "<table border=\"1\" class=\"dataframe\">\n",
       "  <thead>\n",
       "    <tr style=\"text-align: right;\">\n",
       "      <th></th>\n",
       "      <th>Store</th>\n",
       "      <th>Weekly_Sales</th>\n",
       "      <th>Holiday_Flag</th>\n",
       "      <th>Temperature</th>\n",
       "      <th>CPI</th>\n",
       "      <th>Unemployment</th>\n",
       "      <th>Week</th>\n",
       "      <th>Month</th>\n",
       "      <th>Year</th>\n",
       "      <th>Fuel_Price</th>\n",
       "      <th>prediction_label</th>\n",
       "    </tr>\n",
       "  </thead>\n",
       "  <tbody>\n",
       "    <tr>\n",
       "      <th>0</th>\n",
       "      <td>1</td>\n",
       "      <td>1.643691e+06</td>\n",
       "      <td>0</td>\n",
       "      <td>42.310001</td>\n",
       "      <td>211.096359</td>\n",
       "      <td>8.106</td>\n",
       "      <td>5</td>\n",
       "      <td>2</td>\n",
       "      <td>2010</td>\n",
       "      <td>2.572</td>\n",
       "      <td>2.57200</td>\n",
       "    </tr>\n",
       "    <tr>\n",
       "      <th>1</th>\n",
       "      <td>1</td>\n",
       "      <td>1.641958e+06</td>\n",
       "      <td>1</td>\n",
       "      <td>38.509998</td>\n",
       "      <td>211.242172</td>\n",
       "      <td>8.106</td>\n",
       "      <td>6</td>\n",
       "      <td>2</td>\n",
       "      <td>2010</td>\n",
       "      <td>2.548</td>\n",
       "      <td>2.54800</td>\n",
       "    </tr>\n",
       "    <tr>\n",
       "      <th>2</th>\n",
       "      <td>1</td>\n",
       "      <td>1.611968e+06</td>\n",
       "      <td>0</td>\n",
       "      <td>39.930000</td>\n",
       "      <td>211.289139</td>\n",
       "      <td>8.106</td>\n",
       "      <td>7</td>\n",
       "      <td>2</td>\n",
       "      <td>2010</td>\n",
       "      <td>2.514</td>\n",
       "      <td>2.51400</td>\n",
       "    </tr>\n",
       "    <tr>\n",
       "      <th>3</th>\n",
       "      <td>1</td>\n",
       "      <td>1.409728e+06</td>\n",
       "      <td>0</td>\n",
       "      <td>46.630001</td>\n",
       "      <td>211.319641</td>\n",
       "      <td>8.106</td>\n",
       "      <td>8</td>\n",
       "      <td>2</td>\n",
       "      <td>2010</td>\n",
       "      <td>2.561</td>\n",
       "      <td>2.56100</td>\n",
       "    </tr>\n",
       "    <tr>\n",
       "      <th>4</th>\n",
       "      <td>1</td>\n",
       "      <td>1.554807e+06</td>\n",
       "      <td>0</td>\n",
       "      <td>46.500000</td>\n",
       "      <td>211.350143</td>\n",
       "      <td>8.106</td>\n",
       "      <td>9</td>\n",
       "      <td>3</td>\n",
       "      <td>2010</td>\n",
       "      <td>2.625</td>\n",
       "      <td>2.62500</td>\n",
       "    </tr>\n",
       "    <tr>\n",
       "      <th>...</th>\n",
       "      <td>...</td>\n",
       "      <td>...</td>\n",
       "      <td>...</td>\n",
       "      <td>...</td>\n",
       "      <td>...</td>\n",
       "      <td>...</td>\n",
       "      <td>...</td>\n",
       "      <td>...</td>\n",
       "      <td>...</td>\n",
       "      <td>...</td>\n",
       "      <td>...</td>\n",
       "    </tr>\n",
       "    <tr>\n",
       "      <th>5918</th>\n",
       "      <td>45</td>\n",
       "      <td>7.131739e+05</td>\n",
       "      <td>0</td>\n",
       "      <td>64.879997</td>\n",
       "      <td>192.013565</td>\n",
       "      <td>8.684</td>\n",
       "      <td>39</td>\n",
       "      <td>9</td>\n",
       "      <td>2012</td>\n",
       "      <td>3.997</td>\n",
       "      <td>3.99700</td>\n",
       "    </tr>\n",
       "    <tr>\n",
       "      <th>5919</th>\n",
       "      <td>45</td>\n",
       "      <td>7.334551e+05</td>\n",
       "      <td>0</td>\n",
       "      <td>64.889999</td>\n",
       "      <td>192.170410</td>\n",
       "      <td>8.667</td>\n",
       "      <td>40</td>\n",
       "      <td>10</td>\n",
       "      <td>2012</td>\n",
       "      <td>3.985</td>\n",
       "      <td>3.98500</td>\n",
       "    </tr>\n",
       "    <tr>\n",
       "      <th>5920</th>\n",
       "      <td>45</td>\n",
       "      <td>7.344644e+05</td>\n",
       "      <td>0</td>\n",
       "      <td>54.470001</td>\n",
       "      <td>192.327271</td>\n",
       "      <td>8.667</td>\n",
       "      <td>41</td>\n",
       "      <td>10</td>\n",
       "      <td>2012</td>\n",
       "      <td>4.000</td>\n",
       "      <td>3.98164</td>\n",
       "    </tr>\n",
       "    <tr>\n",
       "      <th>5921</th>\n",
       "      <td>45</td>\n",
       "      <td>7.181255e+05</td>\n",
       "      <td>0</td>\n",
       "      <td>56.470001</td>\n",
       "      <td>192.330856</td>\n",
       "      <td>8.667</td>\n",
       "      <td>42</td>\n",
       "      <td>10</td>\n",
       "      <td>2012</td>\n",
       "      <td>3.969</td>\n",
       "      <td>3.94397</td>\n",
       "    </tr>\n",
       "    <tr>\n",
       "      <th>5922</th>\n",
       "      <td>45</td>\n",
       "      <td>7.602814e+05</td>\n",
       "      <td>0</td>\n",
       "      <td>58.849998</td>\n",
       "      <td>192.308899</td>\n",
       "      <td>8.667</td>\n",
       "      <td>43</td>\n",
       "      <td>10</td>\n",
       "      <td>2012</td>\n",
       "      <td>3.882</td>\n",
       "      <td>3.88200</td>\n",
       "    </tr>\n",
       "  </tbody>\n",
       "</table>\n",
       "<p>5923 rows × 11 columns</p>\n",
       "</div>"
      ],
      "text/plain": [
       "      Store  Weekly_Sales  Holiday_Flag  Temperature         CPI  \\\n",
       "0         1  1.643691e+06             0    42.310001  211.096359   \n",
       "1         1  1.641958e+06             1    38.509998  211.242172   \n",
       "2         1  1.611968e+06             0    39.930000  211.289139   \n",
       "3         1  1.409728e+06             0    46.630001  211.319641   \n",
       "4         1  1.554807e+06             0    46.500000  211.350143   \n",
       "...     ...           ...           ...          ...         ...   \n",
       "5918     45  7.131739e+05             0    64.879997  192.013565   \n",
       "5919     45  7.334551e+05             0    64.889999  192.170410   \n",
       "5920     45  7.344644e+05             0    54.470001  192.327271   \n",
       "5921     45  7.181255e+05             0    56.470001  192.330856   \n",
       "5922     45  7.602814e+05             0    58.849998  192.308899   \n",
       "\n",
       "      Unemployment  Week  Month  Year  Fuel_Price  prediction_label  \n",
       "0            8.106     5      2  2010       2.572           2.57200  \n",
       "1            8.106     6      2  2010       2.548           2.54800  \n",
       "2            8.106     7      2  2010       2.514           2.51400  \n",
       "3            8.106     8      2  2010       2.561           2.56100  \n",
       "4            8.106     9      3  2010       2.625           2.62500  \n",
       "...            ...   ...    ...   ...         ...               ...  \n",
       "5918         8.684    39      9  2012       3.997           3.99700  \n",
       "5919         8.667    40     10  2012       3.985           3.98500  \n",
       "5920         8.667    41     10  2012       4.000           3.98164  \n",
       "5921         8.667    42     10  2012       3.969           3.94397  \n",
       "5922         8.667    43     10  2012       3.882           3.88200  \n",
       "\n",
       "[5923 rows x 11 columns]"
      ]
     },
     "execution_count": 38,
     "metadata": {},
     "output_type": "execute_result"
    }
   ],
   "source": [
    "predictions"
   ]
  },
  {
   "cell_type": "code",
   "execution_count": 39,
   "id": "8bb78a91",
   "metadata": {},
   "outputs": [],
   "source": [
    "true_values = new_data['Fuel_Price']\n",
    "predicted_values = predictions['prediction_label']"
   ]
  },
  {
   "cell_type": "code",
   "execution_count": 40,
   "id": "8265a549",
   "metadata": {},
   "outputs": [
    {
     "name": "stdout",
     "output_type": "stream",
     "text": [
      "RMSE :  0.021172\n",
      "r2 score :  0.997863\n",
      "MAE :  0.006367\n",
      "MSE :  0.000448\n"
     ]
    }
   ],
   "source": [
    "rmse = np.sqrt(MSE(true_values,predicted_values))\n",
    "mae = MAE(true_values,predicted_values)\n",
    "r2 = r2_score(true_values,predicted_values)\n",
    "mse = MSE(true_values,predicted_values)\n",
    "\n",
    "print(\"RMSE : % f\" %(rmse))\n",
    "\n",
    "print(\"r2 score : % f\" %(r2))\n",
    "\n",
    "print(\"MAE : % f\" %(mae))\n",
    "\n",
    "print(\"MSE : % f\" %(mse))"
   ]
  },
  {
   "cell_type": "code",
   "execution_count": null,
   "id": "ea6b5f75",
   "metadata": {},
   "outputs": [],
   "source": []
  }
 ],
 "metadata": {
  "kernelspec": {
   "display_name": "Python 3 (ipykernel)",
   "language": "python",
   "name": "python3"
  },
  "language_info": {
   "codemirror_mode": {
    "name": "ipython",
    "version": 3
   },
   "file_extension": ".py",
   "mimetype": "text/x-python",
   "name": "python",
   "nbconvert_exporter": "python",
   "pygments_lexer": "ipython3",
   "version": "3.9.13"
  }
 },
 "nbformat": 4,
 "nbformat_minor": 5
}
